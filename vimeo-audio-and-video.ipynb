{
 "cells": [
  {
   "cell_type": "code",
   "execution_count": 1,
   "metadata": {},
   "outputs": [],
   "source": [
    "import argparse\n",
    "import os\n",
    "import re\n",
    "import requests\n",
    "import urllib.request\n",
    "import subprocess\n",
    "import json\n",
    "import pandas as pd\n",
    "from IPython.display import clear_output\n"
   ]
  },
  {
   "cell_type": "code",
   "execution_count": 2,
   "metadata": {},
   "outputs": [],
   "source": [
    "parser = argparse.ArgumentParser()\n",
    "parser.add_argument('-i', '--url-list', help='List of URL/filename pairs, delimited by tabs')\n",
    "args = parser.parse_args(args=[])\n"
   ]
  },
  {
   "cell_type": "code",
   "execution_count": 3,
   "metadata": {},
   "outputs": [
    {
     "data": {
      "text/html": [
       "<div>\n",
       "<style scoped>\n",
       "    .dataframe tbody tr th:only-of-type {\n",
       "        vertical-align: middle;\n",
       "    }\n",
       "\n",
       "    .dataframe tbody tr th {\n",
       "        vertical-align: top;\n",
       "    }\n",
       "\n",
       "    .dataframe thead th {\n",
       "        text-align: right;\n",
       "    }\n",
       "</style>\n",
       "<table border=\"1\" class=\"dataframe\">\n",
       "  <thead>\n",
       "    <tr style=\"text-align: right;\">\n",
       "      <th></th>\n",
       "      <th>config_no_autoplay</th>\n",
       "      <th>title</th>\n",
       "    </tr>\n",
       "  </thead>\n",
       "  <tbody>\n",
       "    <tr>\n",
       "      <th>0</th>\n",
       "      <td>https://player.vimeo.com/video/830060850/confi...</td>\n",
       "      <td>clase_60_clase_en_vivo_cierre_ii_1022cdfsncn51...</td>\n",
       "    </tr>\n",
       "    <tr>\n",
       "      <th>1</th>\n",
       "      <td>https://player.vimeo.com/video/830060843/confi...</td>\n",
       "      <td>clase_60_clase_en_vivo_cierre_ii_1022cdfsncn51...</td>\n",
       "    </tr>\n",
       "    <tr>\n",
       "      <th>2</th>\n",
       "      <td>https://player.vimeo.com/video/830059182/confi...</td>\n",
       "      <td>clase_60_clase_en_vivo_cierre_ii_1022cdfsncn51...</td>\n",
       "    </tr>\n",
       "  </tbody>\n",
       "</table>\n",
       "</div>"
      ],
      "text/plain": [
       "                                  config_no_autoplay  \\\n",
       "0  https://player.vimeo.com/video/830060850/confi...   \n",
       "1  https://player.vimeo.com/video/830060843/confi...   \n",
       "2  https://player.vimeo.com/video/830059182/confi...   \n",
       "\n",
       "                                               title  \n",
       "0  clase_60_clase_en_vivo_cierre_ii_1022cdfsncn51...  \n",
       "1  clase_60_clase_en_vivo_cierre_ii_1022cdfsncn51...  \n",
       "2  clase_60_clase_en_vivo_cierre_ii_1022cdfsncn51...  "
      ]
     },
     "execution_count": 3,
     "metadata": {},
     "output_type": "execute_result"
    }
   ],
   "source": [
    "f = open(\"videos.json\")\n",
    "file_contents = json.load(f)\n",
    "data = file_contents[\"clips\"]\n",
    "f.close()\n",
    "df = pd.DataFrame(data, columns=[\"config_no_autoplay\", \"title\"])\n",
    "\n",
    "\n",
    "df[\"title\"] = [\n",
    "    x.lower()\n",
    "    .replace(\" - \", \"_\")\n",
    "    .replace(\" \", \"_\")\n",
    "    .replace(\"?\", \"\")\n",
    "    .replace(r\"/\", \"_\")\n",
    "    .replace(\"\\\\\", \"_\")\n",
    "    .replace(\"%\", \"\")\n",
    "    .replace(\")\", \"\")\n",
    "    .replace(r\"(\", \"\")\n",
    "    .replace(\"$\", \"\")\n",
    "    .replace(\"\\r\", \"_\")\n",
    "    .replace(\"\\n\", \"_\")\n",
    "    .replace(\":\", \"\")\n",
    "    .replace(\".mp4\", \"\")\n",
    "    for x in df[\"title\"]\n",
    "]\n",
    "\n",
    "df.head(3)"
   ]
  },
  {
   "cell_type": "code",
   "execution_count": 4,
   "metadata": {},
   "outputs": [],
   "source": [
    "# reverse title list and reset index\n",
    "df = df[::-1].reset_index(drop = True)\n",
    "\n",
    "# rename title with index number\n",
    "#df['title'] = df.index.astype(str) + \"_\" + df['title']\n",
    "\n",
    "# rename title with index number\n",
    "for i in range(len(df)):\n",
    "    if i < 10:\n",
    "        df['title'][i] = \"0\" + str(i) + \"_\" + df['title'][i]\n",
    "    else:\n",
    "        df['title'][i] = str(i) + \"_\" + df['title'][i]\n"
   ]
  },
  {
   "cell_type": "code",
   "execution_count": 5,
   "metadata": {},
   "outputs": [
    {
     "data": {
      "text/plain": [
       "[]"
      ]
     },
     "execution_count": 5,
     "metadata": {},
     "output_type": "execute_result"
    }
   ],
   "source": [
    "# check the duplicate values for the title column\n",
    "seen = set()\n",
    "dupes = [x for x in df['title'] if x in seen or seen.add(x)]\n",
    "dupes"
   ]
  },
  {
   "cell_type": "code",
   "execution_count": 6,
   "metadata": {},
   "outputs": [],
   "source": [
    "# remove videos that are already\n",
    "files_name = [os.path.splitext(filename)[0] for filename in os.listdir(\"./videos/\")]\n",
    "df = df[~df[\"title\"].isin(files_name)].reset_index(drop = True)"
   ]
  },
  {
   "cell_type": "code",
   "execution_count": 7,
   "metadata": {},
   "outputs": [
    {
     "name": "stdout",
     "output_type": "stream",
     "text": [
      "CPU times: user 114 ms, sys: 16.2 ms, total: 131 ms\n",
      "Wall time: 4.49 s\n"
     ]
    }
   ],
   "source": [
    "%%time\n",
    "\n",
    "# get the master url\n",
    "def nested_get(input_dict, nested_key):\n",
    "    internal_dict_value = input_dict\n",
    "    for k in nested_key:\n",
    "        internal_dict_value = internal_dict_value.get(k, None)\n",
    "        if internal_dict_value is None:\n",
    "            return None\n",
    "    return internal_dict_value\n",
    "\n",
    "def getURLmaster(row, url_col):\n",
    "    resp = requests.get(row[url_col])\n",
    "    content = resp.json()\n",
    "    result = nested_get(content,['request','files','dash','cdns','akfire_interconnect_quic', 'avc_url'])\n",
    "    return result\n",
    "\n",
    "\n",
    "df['master_url'] = df.apply(getURLmaster, axis=1, url_col=\"config_no_autoplay\")"
   ]
  },
  {
   "cell_type": "code",
   "execution_count": 8,
   "metadata": {},
   "outputs": [],
   "source": [
    "# get filenames in a directory without extension\n",
    "#files_name = [x.replace(\".mp4\", \"\") for x in os.listdir(\"./videos/\")]\n",
    "files_name = [os.path.splitext(filename)[0] for filename in os.listdir(\"./videos/\")]\n",
    "\n",
    "# remove videos that are already\n",
    "df = df[~df[\"title\"].isin(files_name)].reset_index(drop = True)"
   ]
  },
  {
   "cell_type": "code",
   "execution_count": 9,
   "metadata": {},
   "outputs": [
    {
     "name": "stdout",
     "output_type": "stream",
     "text": [
      "Processing 60_clase_51_trabajando_con_componentes_1022cdfsncn51laed\n",
      "Video url: https://173vod-adaptive.akamaized.net/exp=1690363439~acl=%2F600e4d0b-9f4f-4269-94e2-b037cdb24b34%2F%2A~hmac=842cc39661ef6db2bb43826b21131de72d9d7d25160385c9557fda214419c293/600e4d0b-9f4f-4269-94e2-b037cdb24b34/parcel/video/985e1035.mp4?r=dXMtd2VzdDE%3D\n",
      "Saving VIDEO to video_985e1035.mp4\n",
      "Bitrate [(0, 194000), (1, 102000), (2, 69000)]\n",
      "Audio url: https://173vod-adaptive.akamaized.net/exp=1690363439~acl=%2F600e4d0b-9f4f-4269-94e2-b037cdb24b34%2F%2A~hmac=842cc39661ef6db2bb43826b21131de72d9d7d25160385c9557fda214419c293/600e4d0b-9f4f-4269-94e2-b037cdb24b34/parcel/audio/bef10ee6.mp4?r=dXM%3D\n",
      "Saving AUDIO to audio_bef10ee6.mp4\n",
      "Combining video and audio...\n"
     ]
    }
   ],
   "source": [
    "for i in range(len(df)):\n",
    "    master_json_url = df['master_url'][i]\n",
    "    output_file = df['title'][i]\n",
    "    print(\"Processing %s\" % output_file)\n",
    "\n",
    "    # Extract some stuff\n",
    "    base_url = master_json_url.rsplit(\"/\", 6)[0] + \"/\"\n",
    "    resp = requests.get(master_json_url)\n",
    "    content = resp.json()\n",
    "\n",
    "    # Video download here\n",
    "    heights = [(i, d[\"height\"]) for (i, d) in enumerate(content[\"video\"])]\n",
    "    idx = max(heights, key=lambda x: x[1])[0]\n",
    "    video = content[\"video\"][idx]\n",
    "    init_segment = re.sub(r\"(\\.\\.\\/)+(\\w+\\/)+|[&]range.+\", \"\", video['index_segment'], 0, re.MULTILINE)\n",
    "    video_url = (\n",
    "        base_url + content[\"base_url\"].rsplit(\"/\", 2)[1] + \"/\" + re.findall(r\"\\w+\\/\",video[\"base_url\"])[0] \\\n",
    "        + init_segment)\n",
    "    print(\"Video url:\", video_url)\n",
    "\n",
    "    filenameVideo = \"video_%s.mp4\" % video[\"id\"]\n",
    "    print(\"Saving VIDEO to %s\" % filenameVideo)\n",
    "\n",
    "    \n",
    "    if resp.status_code != 200:\n",
    "        print('not 200!')\n",
    "        print(resp)\n",
    "        print(video_url)\n",
    "        break\n",
    "    else:\n",
    "        urllib.request.urlretrieve(video_url, filenameVideo)\n",
    "\n",
    "    # Audio download here\n",
    "    bitrate = [(i, d[\"bitrate\"]) for (i, d) in enumerate(content[\"audio\"])]\n",
    "\n",
    "    print(\"Bitrate\", bitrate)\n",
    "\n",
    "    idx = max(bitrate, key=lambda x: x[1])[0]\n",
    "    audio = content[\"audio\"][idx]\n",
    "    init_segment = re.sub(r\"(\\.\\.\\/)+(\\w+\\/)+|[&]range.+\", \"\", audio['index_segment'], 0, re.MULTILINE)\n",
    "    audio_url = (\n",
    "        base_url + content[\"base_url\"].rsplit(\"/\", 2)[1] + \"/\" + re.findall(r\"\\w+\\/\",audio[\"base_url\"])[0] \\\n",
    "        + init_segment)\n",
    "    \n",
    "    print(\"Audio url:\", audio_url)\n",
    "\n",
    "    filenameAudio = \"audio_%s.mp4\" % audio[\"id\"]\n",
    "    print(\"Saving AUDIO to %s\" % filenameAudio)\n",
    "\n",
    "\n",
    "    if resp.status_code != 200:\n",
    "        print('not 200!')\n",
    "        print(resp)\n",
    "        print(audio_url)\n",
    "        break\n",
    "    else:\n",
    "        urllib.request.urlretrieve(audio_url, filenameAudio )\n",
    "\n",
    "    # Combine audio and video here\n",
    "    print('Combining video and audio...')\n",
    "    cmd = 'ffmpeg -hide_banner -loglevel error -y -i '\n",
    "    cmd += filenameAudio\n",
    "    cmd += ' -i '\n",
    "    cmd += filenameVideo\n",
    "    cmd += ' ' \n",
    "    cmd += './videos/' + output_file + '.mp4'\n",
    "    subprocess.call(cmd, shell=True)\n",
    "    print('Mixing Done!')\n",
    "\n",
    "    # Delete the remaining single audio and video files\n",
    "    os.remove(filenameAudio)\n",
    "    os.remove(filenameVideo)\n",
    "    print(\"Temporary files removed!\")\n",
    "\n",
    "    # Log the conclusion of the operations\n",
    "    print(\"*** VIDEO DOWNLOADED SUCCESSFULLY ***\")\n",
    "    clear_output(wait=True)"
   ]
  },
  {
   "cell_type": "code",
   "execution_count": null,
   "metadata": {},
   "outputs": [],
   "source": []
  }
 ],
 "metadata": {
  "kernelspec": {
   "display_name": "deckard",
   "language": "python",
   "name": "python3"
  },
  "language_info": {
   "codemirror_mode": {
    "name": "ipython",
    "version": 3
   },
   "file_extension": ".py",
   "mimetype": "text/x-python",
   "name": "python",
   "nbconvert_exporter": "python",
   "pygments_lexer": "ipython3",
   "version": "3.11.3"
  },
  "orig_nbformat": 4
 },
 "nbformat": 4,
 "nbformat_minor": 2
}
